{
 "cells": [
  {
   "cell_type": "markdown",
   "metadata": {},
   "source": [
    "# Project Description\n",
    "## Finding a nice neighborhood to live in.\n",
    "\n",
    "Many people during their life, need to make change of living location due to personal or professional reasons. However finding a decent place where all the personal neccessities are met is highly stressful. Some people enjoy doing the detailed analysis by hand thereby figuring out following information like, \n",
    "\n",
    "(1) the average rent in a neighborhood,\n",
    "\n",
    "(2) transport amenities (both public and private),\n",
    "\n",
    "(3) best schools for kids(if they have any, as this is a very important choice),\n",
    "\n",
    "(4) average commute time from that neighborhood to work place,\n",
    "\n",
    "(5) nearest hospitals,\n",
    "\n",
    "(6) crime rates,\n",
    "\n",
    "(7) police or communal violence,\n",
    "\n",
    "(8) political or racial tensions,\n",
    "\n",
    "(9) public health crisis in the last few years,\n",
    "\n",
    "(10) tax rates\n",
    "\n",
    "(11) public places like parks,\n",
    "\n",
    "(12) places to have leisure sctivities like going to restaurants, movie theaters, saunas, gym, etc.,\n",
    "\n",
    "These are few common things to consider during a relocation and they are very important for a healthy and stress free life. For many people doing an online search for the above points is time consuming. In this project, we aim to meet atleast some common requirements like (numbers 1, 2, 3, 4, 5, 11, 12) and guide the project users to choose atleast 1 or more neighborhoods for their consideration during their relocation. By rating the neighborhoods based upon the available amenities they have, we can recommend the neighborhood in a city in a ranked order. This is the goal of this project.\n",
    "\n",
    "### Target Audience:-\n",
    "Someone who wants to relocate to a city.\n",
    "\n",
    "### Stakeholders:-\n",
    "\n",
    "Someone who wants to relocate to a city.\n",
    "Myself."
   ]
  },
  {
   "cell_type": "markdown",
   "metadata": {},
   "source": [
    "# Data Description\n",
    "\n",
    "We use public libraries and API's in this project - Foursquare API and Some common Python Libraries for programming.\n",
    "\n",
    "## Foursquare API\n",
    "Foursquare provides a valuable and publically accessible location information like the ameneties in nearby locations. We use their developer tools to access the required information about the neighboords in a city. Using these accessed information we then rank the neighborhoods based on the ameneties they have. These services are free of charge.\n",
    "\n",
    "I am using a Foursquare developer account, and after that will provide some zip codes inside a city and for each zip code or LatLon info(Latitude and Longitude Points) we provided, extract details on the ameneties we expect a neighborhood should have. So we set the radius of this search around to zip code to be around # 1km.\n",
    "\n",
    "### Date Type:- JSON\n",
    "\n",
    "### Duration:-\n",
    "N/A\n",
    "\n",
    "## Description of the data:-\n",
    "Location coordinates obtained by Foursquare API calls.\n",
    "\n",
    "Source:- (https://foursquare.com/)"
   ]
  },
  {
   "cell_type": "code",
   "execution_count": null,
   "metadata": {},
   "outputs": [],
   "source": []
  }
 ],
 "metadata": {
  "kernelspec": {
   "display_name": "Python 3",
   "language": "python",
   "name": "python3"
  },
  "language_info": {
   "codemirror_mode": {
    "name": "ipython",
    "version": 3
   },
   "file_extension": ".py",
   "mimetype": "text/x-python",
   "name": "python",
   "nbconvert_exporter": "python",
   "pygments_lexer": "ipython3",
   "version": "3.8.3"
  }
 },
 "nbformat": 4,
 "nbformat_minor": 4
}
